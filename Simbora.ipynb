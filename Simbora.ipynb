{
 "cells": [
  {
   "cell_type": "code",
   "execution_count": 4,
   "metadata": {
    "collapsed": false
   },
   "outputs": [
    {
     "name": "stdout",
     "output_type": "stream",
     "text": [
      "[5 0 6 1 7 2 8 3 9 4]\n0 0 0 0 0 1 0 0 0 0\n1 0 0 0 0 0 0 0 0 0\n0 0 0 0 0 0 1 0 0 0\n0 1 0 0 0 0 0 0 0 0\n0 0 0 0 0 0 0 1 0 0\n0 0 1 0 0 0 0 0 0 0\n0 0 0 0 0 0 0 0 1 0\n0 0 0 1 0 0 0 0 0 0\n0 0 0 0 0 0 0 0 0 1\n0 0 0 0 1 0 0 0 0 0\n"
     ]
    }
   ],
   "source": [
    "import numpy as np\n",
    "from NQueens import *\n",
    "\n",
    "N = 10\n",
    "\n",
    "t = np.zeros(N).astype(int)\n",
    "\n",
    "for i in range(1, N, 2):\n",
    "    # print(i - 1, int(N / 2) + int(i / 2))\n",
    "    # print(i, int(i / 2))\n",
    "    t[i] = int(i / 2)\n",
    "    t[i - 1] = int(N / 2) + int(i / 2)\n",
    "\n",
    "print(t)\n",
    "print_t(t)"
   ]
  },
  {
   "cell_type": "code",
   "execution_count": 3,
   "metadata": {},
   "outputs": [],
   "source": [
    "file = open(str(N) + \"_queens.txt\", \"w\")\n",
    "\n",
    "file.write(str(N) + \"\\n\")\n",
    "print_t(t, file)\n",
    "\n",
    "file.close()\n"
   ]
  }
 ],
 "metadata": {
  "kernelspec": {
   "display_name": "Python 2",
   "language": "python",
   "name": "python2"
  },
  "language_info": {
   "codemirror_mode": {
    "name": "ipython",
    "version": 2
   },
   "file_extension": ".py",
   "mimetype": "text/x-python",
   "name": "python",
   "nbconvert_exporter": "python",
   "pygments_lexer": "ipython2",
   "version": "2.7.6"
  }
 },
 "nbformat": 4,
 "nbformat_minor": 0
}
