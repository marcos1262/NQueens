{
 "cells": [
  {
   "cell_type": "code",
   "execution_count": 3,
   "metadata": {},
   "outputs": [
    {
     "name": "stdout",
     "output_type": "stream",
     "text": [
      "[72 73 63 45 14 35 94 64 78 82 79 56 60  2 49 59  6 20 39 29 98  9 86 84 93\n",
      " 15 68 71 13  8 76  0 17 36 16 32 70 43 65  5 97 11 80 85 22 95 57 46 75 91\n",
      " 40 31 52  1 92 24 88  4 26 58 62 42 48 67 10 74 81 34 96 21 87 90 69 37 66\n",
      " 38  7 51 33 61 50 99 25 53 41 30 47 55 18  3 54 27 19 12 28 89 83 23 44 77]\n",
      "[[ 0.  0.  0. ...,  0.  0.  0.]\n",
      " [ 0.  0.  0. ...,  0.  0.  0.]\n",
      " [ 0.  0.  0. ...,  0.  0.  0.]\n",
      " ..., \n",
      " [ 0.  0.  0. ...,  0.  0.  0.]\n",
      " [ 0.  0.  0. ...,  0.  0.  0.]\n",
      " [ 0.  0.  0. ...,  0.  0.  0.]]\n"
     ]
    }
   ],
   "source": [
    "import numpy as np\n",
    "from time import time\n",
    "from joblib import Parallel, delayed\n",
    "import sys\n",
    "\n",
    "N = 100\n",
    "t = np.random.permutation(N)\n",
    "\n",
    "print(t)\n",
    "\n",
    "m = np.zeros((N, N))\n",
    "for i in range(N):\n",
    "    m[i][t[i]] = 1\n",
    "\n",
    "print(m)\n"
   ]
  },
  {
   "cell_type": "code",
   "execution_count": 21,
   "metadata": {},
   "outputs": [
    {
     "name": "stdout",
     "output_type": "stream",
     "text": [
      "Heuristic: 51\n",
      "Elapsed (sec): 0.022897720336914062\n"
     ]
    }
   ],
   "source": [
    "def h(t):\n",
    "    h = 0\n",
    "    for i in range(N - 1):\n",
    "        c = [0,0,0,0]\n",
    "        for j in range(N - i):\n",
    "            # top principal diagonals\n",
    "            if t[j] == j + i: c[0] += 1\n",
    "            # top secondary diagonals\n",
    "            if t[j] == N - j - i - 1: c[1] += 1\n",
    "\n",
    "            if i > 0:\n",
    "                # bottom principal diagonals\n",
    "                if t[j + i] == j: c[2] += 1\n",
    "                # bottom secondary diagonals\n",
    "                if t[j + i] == N - j - 1: c[3] += 1\n",
    "        h += sum([i-1 if i > 1 else 0 for i in c])\n",
    "\n",
    "    return h\n",
    "\n",
    "\n",
    "start = time()\n",
    "h_t = h(t)\n",
    "print(\"Heuristic:\", h_t)\n",
    "elapsed = time() - start\n",
    "print(\"Elapsed (sec):\", elapsed)\n"
   ]
  },
  {
   "cell_type": "code",
   "execution_count": 44,
   "metadata": {},
   "outputs": [
    {
     "name": "stdout",
     "output_type": "stream",
     "text": [
      "Best successor: (47, [72, 73, 63, 45, 14, 35, 94, 64, 78, 82, 79, 56, 60, 2, 49, 59, 6, 20, 39, 29, 98, 9, 86, 84, 40, 15, 68, 71, 13, 8, 76, 0, 17, 36, 16, 32, 70, 43, 65, 5, 97, 11, 80, 85, 22, 95, 57, 46, 75, 91, 93, 31, 52, 1, 92, 24, 88, 4, 26, 58, 62, 42, 48, 67, 10, 74, 81, 34, 96, 21, 87, 90, 69, 37, 66, 38, 7, 51, 33, 61, 50, 99, 25, 53, 41, 30, 47, 55, 18, 3, 54, 27, 19, 12, 28, 89, 83, 23, 44, 77])\n",
      "Elapsed (sec): 0.9274191856384277\n"
     ]
    }
   ],
   "source": [
    "def sucessor(t, i, j):\n",
    "    s = list(t)\n",
    "    s[i], s[j] = s[j], s[i]\n",
    "    return (h(s), s)\n",
    "\n",
    "\n",
    "def bestSuccessor(t):\n",
    "    min = sys.maxsize\n",
    "    best = None\n",
    "    \n",
    "    successors = Parallel(n_jobs=-1)(delayed(sucessor)(t, i, j) \n",
    "                                    for i,j in zip(\n",
    "                                        np.random.choice(range(N), int(N/2)), \n",
    "                                        np.random.choice(range(N), int(N/2)))\n",
    "                                   )\n",
    "    for s in successors:\n",
    "        if s[0] < min:\n",
    "            min = s[0]\n",
    "            best = s\n",
    "    \n",
    "    return best\n",
    "\n",
    "\n",
    "start = time()\n",
    "print(\"Best successor:\", bestSuccessor(t))\n",
    "elapsed = time() - start\n",
    "print(\"Elapsed (sec):\", elapsed)\n"
   ]
  },
  {
   "cell_type": "code",
   "execution_count": 49,
   "metadata": {
    "scrolled": false,
    "collapsed": true
   },
   "outputs": [
    {
     "ename": "ImportError",
     "evalue": "[joblib] Attempting to do parallel computing without protecting your import on a system that does not support forking. To use parallel-computing in a script, you must protect your main loop using \"if __name__ == '__main__'\". Please see the joblib documentation on Parallel for more information",
     "traceback": [
      "\u001b[0;31m---------------------------------------------------------------------------\u001b[0m",
      "\u001b[0;31mImportError\u001b[0m                               Traceback (most recent call last)",
      "\u001b[0;32m<ipython-input-49-7eee578a60fc>\u001b[0m in \u001b[0;36m<module>\u001b[0;34m()\u001b[0m\n\u001b[1;32m     28\u001b[0m \u001b[0mstart\u001b[0m \u001b[0;34m=\u001b[0m \u001b[0mtime\u001b[0m\u001b[0;34m(\u001b[0m\u001b[0;34m)\u001b[0m\u001b[0;34m\u001b[0m\u001b[0m\n\u001b[1;32m     29\u001b[0m \u001b[0;34m\u001b[0m\u001b[0m\n\u001b[0;32m---> 30\u001b[0;31m \u001b[0msolution\u001b[0m\u001b[0;34m,\u001b[0m \u001b[0msteps\u001b[0m \u001b[0;34m=\u001b[0m \u001b[0mgreed\u001b[0m\u001b[0;34m(\u001b[0m\u001b[0mt\u001b[0m\u001b[0;34m)\u001b[0m\u001b[0;34m\u001b[0m\u001b[0m\n\u001b[0m\u001b[1;32m     31\u001b[0m \u001b[0mprint\u001b[0m\u001b[0;34m(\u001b[0m\u001b[0;34m\"Solution, steps:\"\u001b[0m\u001b[0;34m,\u001b[0m \u001b[0msolution\u001b[0m\u001b[0;34m,\u001b[0m \u001b[0msteps\u001b[0m\u001b[0;34m)\u001b[0m\u001b[0;34m\u001b[0m\u001b[0m\n\u001b[1;32m     32\u001b[0m \u001b[0;34m\u001b[0m\u001b[0m\n",
      "\u001b[0;32m<ipython-input-49-7eee578a60fc>\u001b[0m in \u001b[0;36mgreed\u001b[0;34m(initial)\u001b[0m\n\u001b[1;32m     10\u001b[0m             \u001b[0mprint\u001b[0m\u001b[0;34m(\u001b[0m\u001b[0;34m\"h(t) at\"\u001b[0m\u001b[0;34m,\u001b[0m \u001b[0msteps\u001b[0m\u001b[0;34m,\u001b[0m \u001b[0;34m\"steps:\"\u001b[0m\u001b[0;34m,\u001b[0m \u001b[0mh_t\u001b[0m\u001b[0;34m)\u001b[0m\u001b[0;34m\u001b[0m\u001b[0m\n\u001b[1;32m     11\u001b[0m \u001b[0;34m\u001b[0m\u001b[0m\n\u001b[0;32m---> 12\u001b[0;31m         \u001b[0mh_t\u001b[0m\u001b[0;34m,\u001b[0m \u001b[0mt\u001b[0m \u001b[0;34m=\u001b[0m \u001b[0mbestSuccessor\u001b[0m\u001b[0;34m(\u001b[0m\u001b[0mt\u001b[0m\u001b[0;34m)\u001b[0m\u001b[0;34m\u001b[0m\u001b[0m\n\u001b[0m\u001b[1;32m     13\u001b[0m \u001b[0;34m\u001b[0m\u001b[0m\n\u001b[1;32m     14\u001b[0m         \u001b[0;32mif\u001b[0m \u001b[0msteps\u001b[0m \u001b[0;34m==\u001b[0m \u001b[0;36m100\u001b[0m\u001b[0;34m*\u001b[0m\u001b[0mN\u001b[0m\u001b[0;34m:\u001b[0m\u001b[0;34m\u001b[0m\u001b[0m\n",
      "\u001b[0;32m<ipython-input-44-f3f48dc9dfd8>\u001b[0m in \u001b[0;36mbestSuccessor\u001b[0;34m(t)\u001b[0m\n\u001b[1;32m     12\u001b[0m                                     for i,j in zip(\n\u001b[1;32m     13\u001b[0m                                         \u001b[0mnp\u001b[0m\u001b[0;34m.\u001b[0m\u001b[0mrandom\u001b[0m\u001b[0;34m.\u001b[0m\u001b[0mchoice\u001b[0m\u001b[0;34m(\u001b[0m\u001b[0mrange\u001b[0m\u001b[0;34m(\u001b[0m\u001b[0mN\u001b[0m\u001b[0;34m)\u001b[0m\u001b[0;34m,\u001b[0m \u001b[0mint\u001b[0m\u001b[0;34m(\u001b[0m\u001b[0mN\u001b[0m\u001b[0;34m/\u001b[0m\u001b[0;36m2\u001b[0m\u001b[0;34m)\u001b[0m\u001b[0;34m)\u001b[0m\u001b[0;34m,\u001b[0m\u001b[0;34m\u001b[0m\u001b[0m\n\u001b[0;32m---> 14\u001b[0;31m                                         np.random.choice(range(N), int(N/2)))\n\u001b[0m\u001b[1;32m     15\u001b[0m                                    )\n\u001b[1;32m     16\u001b[0m     \u001b[0;32mfor\u001b[0m \u001b[0ms\u001b[0m \u001b[0;32min\u001b[0m \u001b[0msuccessors\u001b[0m\u001b[0;34m:\u001b[0m\u001b[0;34m\u001b[0m\u001b[0m\n",
      "\u001b[0;32m/usr/local/lib/python3.5/dist-packages/joblib/parallel.py\u001b[0m in \u001b[0;36m__call__\u001b[0;34m(self, iterable)\u001b[0m\n\u001b[1;32m    747\u001b[0m         \u001b[0mself\u001b[0m\u001b[0;34m.\u001b[0m\u001b[0m_aborting\u001b[0m \u001b[0;34m=\u001b[0m \u001b[0;32mFalse\u001b[0m\u001b[0;34m\u001b[0m\u001b[0m\n\u001b[1;32m    748\u001b[0m         \u001b[0;32mif\u001b[0m \u001b[0;32mnot\u001b[0m \u001b[0mself\u001b[0m\u001b[0;34m.\u001b[0m\u001b[0m_managed_backend\u001b[0m\u001b[0;34m:\u001b[0m\u001b[0;34m\u001b[0m\u001b[0m\n\u001b[0;32m--> 749\u001b[0;31m             \u001b[0mn_jobs\u001b[0m \u001b[0;34m=\u001b[0m \u001b[0mself\u001b[0m\u001b[0;34m.\u001b[0m\u001b[0m_initialize_backend\u001b[0m\u001b[0;34m(\u001b[0m\u001b[0;34m)\u001b[0m\u001b[0;34m\u001b[0m\u001b[0m\n\u001b[0m\u001b[1;32m    750\u001b[0m         \u001b[0;32melse\u001b[0m\u001b[0;34m:\u001b[0m\u001b[0;34m\u001b[0m\u001b[0m\n\u001b[1;32m    751\u001b[0m             \u001b[0mn_jobs\u001b[0m \u001b[0;34m=\u001b[0m \u001b[0mself\u001b[0m\u001b[0;34m.\u001b[0m\u001b[0m_effective_n_jobs\u001b[0m\u001b[0;34m(\u001b[0m\u001b[0;34m)\u001b[0m\u001b[0;34m\u001b[0m\u001b[0m\n",
      "\u001b[0;32m/usr/local/lib/python3.5/dist-packages/joblib/parallel.py\u001b[0m in \u001b[0;36m_initialize_backend\u001b[0;34m(self)\u001b[0m\n\u001b[1;32m    545\u001b[0m         \u001b[0;32mtry\u001b[0m\u001b[0;34m:\u001b[0m\u001b[0;34m\u001b[0m\u001b[0m\n\u001b[1;32m    546\u001b[0m             n_jobs = self._backend.configure(n_jobs=self.n_jobs, parallel=self,\n\u001b[0;32m--> 547\u001b[0;31m                                              **self._backend_args)\n\u001b[0m\u001b[1;32m    548\u001b[0m             \u001b[0;32mif\u001b[0m \u001b[0mself\u001b[0m\u001b[0;34m.\u001b[0m\u001b[0mtimeout\u001b[0m \u001b[0;32mis\u001b[0m \u001b[0;32mnot\u001b[0m \u001b[0;32mNone\u001b[0m \u001b[0;32mand\u001b[0m \u001b[0;32mnot\u001b[0m \u001b[0mself\u001b[0m\u001b[0;34m.\u001b[0m\u001b[0m_backend\u001b[0m\u001b[0;34m.\u001b[0m\u001b[0msupports_timeout\u001b[0m\u001b[0;34m:\u001b[0m\u001b[0;34m\u001b[0m\u001b[0m\n\u001b[1;32m    549\u001b[0m                 warnings.warn(\n",
      "\u001b[0;32m/usr/local/lib/python3.5/dist-packages/joblib/_parallel_backends.py\u001b[0m in \u001b[0;36mconfigure\u001b[0;34m(self, n_jobs, parallel, **backend_args)\u001b[0m\n\u001b[1;32m    303\u001b[0m         \u001b[0;32mif\u001b[0m \u001b[0malready_forked\u001b[0m\u001b[0;34m:\u001b[0m\u001b[0;34m\u001b[0m\u001b[0m\n\u001b[1;32m    304\u001b[0m             raise ImportError(\n\u001b[0;32m--> 305\u001b[0;31m                 \u001b[0;34m'[joblib] Attempting to do parallel computing '\u001b[0m\u001b[0;34m\u001b[0m\u001b[0m\n\u001b[0m\u001b[1;32m    306\u001b[0m                 \u001b[0;34m'without protecting your import on a system that does '\u001b[0m\u001b[0;34m\u001b[0m\u001b[0m\n\u001b[1;32m    307\u001b[0m                 \u001b[0;34m'not support forking. To use parallel-computing in a '\u001b[0m\u001b[0;34m\u001b[0m\u001b[0m\n",
      "\u001b[0;31mImportError\u001b[0m: [joblib] Attempting to do parallel computing without protecting your import on a system that does not support forking. To use parallel-computing in a script, you must protect your main loop using \"if __name__ == '__main__'\". Please see the joblib documentation on Parallel for more information"
     ],
     "output_type": "error"
    }
   ],
   "source": [
    "def greed(initial):\n",
    "    t = list(initial)\n",
    "    h_t = h(t)\n",
    "    steps = 0\n",
    "\n",
    "    while h_t > 0:\n",
    "        steps += 1\n",
    "        \n",
    "        if steps % 10 == 0:\n",
    "            print(\"h(t) at\", steps, \"steps:\", h_t)\n",
    "\n",
    "        h_t, t = bestSuccessor(t)\n",
    "        \n",
    "        if steps == 100*N:\n",
    "            return greed(np.random.permutation(N))\n",
    "\n",
    "    return t, steps\n",
    "\n",
    "\n",
    "for i in range(100):\n",
    "    x = np.random.permutation(N)\n",
    "    h_x = h(x)\n",
    "    if h_x < h_t:\n",
    "        print(h_x)\n",
    "        t = list(x)\n",
    "        h_t = h_x\n",
    "\n",
    "start = time()\n",
    "\n",
    "solution, steps = greed(t)\n",
    "print(\"Solution, steps:\", solution, steps)\n",
    "\n",
    "m = np.zeros((N, N))\n",
    "for i in range(N):\n",
    "    m[i][solution[i]] = 1\n",
    "print(m)\n",
    "\n",
    "elapsed = time() - start\n",
    "print(\"Elapsed (sec):\", elapsed)\n"
   ]
  },
  {
   "cell_type": "code",
   "execution_count": null,
   "metadata": {},
   "outputs": [],
   "source": [
    "\n"
   ]
  }
 ],
 "metadata": {
  "kernelspec": {
   "display_name": "Python 3",
   "language": "python",
   "name": "python3"
  },
  "language_info": {
   "codemirror_mode": {
    "name": "ipython",
    "version": 3
   },
   "file_extension": ".py",
   "mimetype": "text/x-python",
   "name": "python",
   "nbconvert_exporter": "python",
   "pygments_lexer": "ipython3",
   "version": "3.5.2"
  }
 },
 "nbformat": 4,
 "nbformat_minor": 1
}
