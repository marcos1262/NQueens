{
 "cells": [
  {
   "cell_type": "code",
   "execution_count": 9,
   "metadata": {
    "collapsed": true
   },
   "outputs": [],
   "source": [
    "from NQueens import *\n",
    "\n",
    "N = 12\n",
    "\n",
    "pos = []\n",
    "for i in range(N):\n",
    "    for j in range(N):\n",
    "        pos.append((i, j))\n",
    "\n",
    "# pos = set(pos)\n",
    "# print(pos)\n"
   ]
  },
  {
   "cell_type": "code",
   "execution_count": 10,
   "metadata": {},
   "outputs": [
    {
     "name": "stdout",
     "output_type": "stream",
     "text": [
      "Solution: [4, 7, 3, 11, 9, 1, 6, 10, 2, 0, 5, 8]\nElapsed (sec): 40.78095817565918\n"
     ]
    }
   ],
   "source": [
    "def remove(l, e):\n",
    "    return [n for n in l if n != e]\n",
    "\n",
    "\n",
    "def put(t_, pos_, cont):\n",
    "    if cont == 0:\n",
    "        if h(t_) == 0:\n",
    "            return t_\n",
    "        else:\n",
    "            return None\n",
    "\n",
    "    for k in range(len(pos_)):\n",
    "        t = list(t_)\n",
    "        pos = list(pos_)\n",
    "\n",
    "        i, j = pos[k]\n",
    "        t[i] = j\n",
    "\n",
    "        m = np.zeros((N, N))\n",
    "        for l in range(N):\n",
    "            if t[l] != \".\":\n",
    "                m[l][t[l]] = 1\n",
    "\n",
    "        # print(m,\"\\n\")\n",
    "        # print(pos)\n",
    "\n",
    "        for l in range(N):\n",
    "            pos = remove(pos, (i, l))  # remove same line\n",
    "            pos = remove(pos, (l, j))  # remove same column\n",
    "\n",
    "        if i < j:  #diagonal principal superior\n",
    "            q = j - i\n",
    "            for l in range(N - q):\n",
    "                pos = remove(pos, (l, l + q))\n",
    "\n",
    "            q = i + j\n",
    "            if q >= N:  #diagonal secundária inferior\n",
    "                for l in range(N + N - q - 1):\n",
    "                    pos = remove(pos, (l + q - N + 1, N - l - 1))\n",
    "            else:  # diagonal secundária superior\n",
    "                for l in range(q + 1):\n",
    "                    pos = remove(pos, (q - l, l))\n",
    "        else:  # diagonal principal inferior\n",
    "            q = i - j\n",
    "            for l in range(N - q):\n",
    "                pos = remove(pos, (l + q, l))\n",
    "\n",
    "            q = i + j\n",
    "            if q >= N:  #diagonal secundária inferior\n",
    "                for l in range(N + N - q - 1):\n",
    "                    pos = remove(pos, (l - N + q + 1, N - l - 1))\n",
    "            else:  # diagonal secundária superior\n",
    "                for l in range(q + 1):\n",
    "                    pos = remove(pos, (q - l, l))\n",
    "\n",
    "        res = put(t, pos, cont-1)\n",
    "        if res is not None:\n",
    "            return res\n",
    "\n",
    "    return None\n",
    "\n",
    "\n",
    "start = time()\n",
    "\n",
    "initial = \".\"*N\n",
    "np.random.shuffle(pos)\n",
    "t = put(initial, pos, N)\n",
    "\n",
    "elapsed = time() - start\n",
    "print(\"Solution:\", t)\n",
    "print(\"Elapsed (sec):\", elapsed)\n"
   ]
  },
  {
   "cell_type": "code",
   "execution_count": null,
   "metadata": {},
   "outputs": [],
   "source": [
    ""
   ]
  }
 ],
 "metadata": {
  "kernelspec": {
   "display_name": "Python 2",
   "language": "python",
   "name": "python2"
  },
  "language_info": {
   "codemirror_mode": {
    "name": "ipython",
    "version": 2
   },
   "file_extension": ".py",
   "mimetype": "text/x-python",
   "name": "python",
   "nbconvert_exporter": "python",
   "pygments_lexer": "ipython2",
   "version": "2.7.6"
  }
 },
 "nbformat": 4,
 "nbformat_minor": 0
}
